{
  "nbformat": 4,
  "nbformat_minor": 0,
  "metadata": {
    "colab": {
      "provenance": [],
      "authorship_tag": "ABX9TyNTckbdUjytO0zyGOtHvfO7",
      "include_colab_link": true
    },
    "kernelspec": {
      "name": "python3",
      "display_name": "Python 3"
    },
    "language_info": {
      "name": "python"
    }
  },
  "cells": [
    {
      "cell_type": "markdown",
      "metadata": {
        "id": "view-in-github",
        "colab_type": "text"
      },
      "source": [
        "<a href=\"https://colab.research.google.com/github/Vanshikava/AI-Agents/blob/main/AlarmAgent.ipynb\" target=\"_parent\"><img src=\"https://colab.research.google.com/assets/colab-badge.svg\" alt=\"Open In Colab\"/></a>"
      ]
    },
    {
      "cell_type": "code",
      "execution_count": 3,
      "metadata": {
        "colab": {
          "base_uri": "https://localhost:8080/"
        },
        "id": "z-7sSMWlAEQk",
        "outputId": "05c690ee-4826-4949-e862-7771cd5dce9e"
      },
      "outputs": [
        {
          "output_type": "stream",
          "name": "stdout",
          "text": [
            "alram on\n",
            "off\n"
          ]
        }
      ],
      "source": [
        "class AlarmAgent:\n",
        "  def __init__(self):\n",
        "    self.on = False\n",
        "  def update(self, event):\n",
        "    if event == \"motion\":\n",
        "        self.on = True\n",
        "    elif event == \"rest\":\n",
        "        self.on =False\n",
        "    return \"alram on\" if self.on else \"off\"\n",
        "agent = AlarmAgent()\n",
        "print(agent.update(\"motion\"))\n",
        "print(agent.update(\"rest\"))"
      ]
    }
  ]
}