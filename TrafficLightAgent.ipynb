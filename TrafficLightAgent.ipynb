{
  "nbformat": 4,
  "nbformat_minor": 0,
  "metadata": {
    "colab": {
      "provenance": [],
      "authorship_tag": "ABX9TyOxZmeESlFPyc9NYns+fTpn",
      "include_colab_link": true
    },
    "kernelspec": {
      "name": "python3",
      "display_name": "Python 3"
    },
    "language_info": {
      "name": "python"
    }
  },
  "cells": [
    {
      "cell_type": "markdown",
      "metadata": {
        "id": "view-in-github",
        "colab_type": "text"
      },
      "source": [
        "<a href=\"https://colab.research.google.com/github/Vanshikava/AI-Agents/blob/main/TrafficLightAgent.ipynb\" target=\"_parent\"><img src=\"https://colab.research.google.com/assets/colab-badge.svg\" alt=\"Open In Colab\"/></a>"
      ]
    },
    {
      "cell_type": "code",
      "execution_count": 12,
      "metadata": {
        "colab": {
          "base_uri": "https://localhost:8080/"
        },
        "id": "jTimq57I3X3T",
        "outputId": "0e568971-d13b-47d8-d223-67c3bbab02a9"
      },
      "outputs": [
        {
          "output_type": "stream",
          "name": "stdout",
          "text": [
            "green\n",
            "red\n"
          ]
        }
      ],
      "source": [
        "class TrafficLightAgent:\n",
        "  def __init__(self):\n",
        "    self.state = \"red\"\n",
        "  def update(self, preception):\n",
        "    if preception == \"time_done\":\n",
        "       self.state = \"green\" if self.state == \"red\" else \"red\"\n",
        "    return self.state\n",
        "agent=TrafficLightAgent()\n",
        "print(agent.update(\"time_done\"))\n",
        "print(agent.update(\"time_done\"))"
      ]
    }
  ]
}